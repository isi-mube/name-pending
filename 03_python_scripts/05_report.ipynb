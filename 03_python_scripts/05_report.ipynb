{
 "cells": [
  {
   "cell_type": "code",
   "execution_count": 3,
   "id": "c2f5f2d9-44f0-4d89-ba98-84fb1af2de69",
   "metadata": {},
   "outputs": [],
   "source": [
    "# 📚 Basic libraries\n",
    "import pandas as pd # data manipulation\n",
    "import numpy as np # numerical operations\n",
    "import matplotlib.pyplot as plt # 2D visualizations\n",
    "import seaborn as sns # high-resolution visualization\n",
    "import warnings # warning messages management\n",
    "import datetime # to play with dates\n",
    "import os # file managment\n",
    "\n",
    "# 🤖 Machine Learning\n",
    "from scipy.stats import skew # data distribution assymmetry\n",
    "from sklearn.preprocessing import StandardScaler # data normalization\n",
    "from sklearn.linear_model import LinearRegression\n",
    "from sklearn.model_selection import train_test_split\n",
    "from sklearn.metrics import mean_absolute_error, mean_squared_error, r2_score\n",
    "\n",
    "\n",
    "# ⚙️ Settings\n",
    "pd.set_option('display.max_columns', None) # display all columns\n",
    "warnings.filterwarnings('ignore') # ignore warnings"
   ]
  },
  {
   "cell_type": "markdown",
   "id": "011f1a91-4b9a-4e68-8119-41ebba7a4e90",
   "metadata": {},
   "source": [
    "<h2 style=\"color: #008080;\">Data Extraction</h2>"
   ]
  },
  {
   "cell_type": "code",
   "execution_count": 9,
   "id": "9f03f360-7d55-4243-8bf1-e02a350e45f3",
   "metadata": {},
   "outputs": [],
   "source": [
    "file_path = os.path.join(\"C:/Users/apisi/01. IronData/01. GitHub/03. Projects/05_patern_pending/00_data\", \"cleaned.csv\")\n",
    "cleaned = pd.read_csv(file_path, index_col=0) # to deal with an error `Unnamed: 0` column\n",
    "cleaned = cleaned.reset_index()"
   ]
  },
  {
   "cell_type": "code",
   "execution_count": 10,
   "id": "0b40cc7e-0ee9-4df1-ae9f-b97228702fca",
   "metadata": {},
   "outputs": [],
   "source": [
    "cleaned = cleaned.drop('month', axis=1) # Temporary, it's still not encoded"
   ]
  },
  {
   "cell_type": "code",
   "execution_count": 17,
   "id": "8cd87fc8-21ff-4d88-8c92-451b1c5f6473",
   "metadata": {},
   "outputs": [
    {
     "ename": "AttributeError",
     "evalue": "'numpy.ndarray' object has no attribute 'columns'",
     "output_type": "error",
     "traceback": [
      "\u001b[1;31m---------------------------------------------------------------------------\u001b[0m",
      "\u001b[1;31mAttributeError\u001b[0m                            Traceback (most recent call last)",
      "\u001b[1;32m~\\AppData\\Local\\Temp\\ipykernel_6336\\1416423807.py\u001b[0m in \u001b[0;36m<module>\u001b[1;34m\u001b[0m\n\u001b[0;32m      1\u001b[0m \u001b[0mscaler\u001b[0m \u001b[1;33m=\u001b[0m \u001b[0mStandardScaler\u001b[0m\u001b[1;33m(\u001b[0m\u001b[1;33m)\u001b[0m\u001b[1;33m\u001b[0m\u001b[1;33m\u001b[0m\u001b[0m\n\u001b[0;32m      2\u001b[0m \u001b[0mcleaneds\u001b[0m \u001b[1;33m=\u001b[0m \u001b[0mscaler\u001b[0m\u001b[1;33m.\u001b[0m\u001b[0mfit_transform\u001b[0m\u001b[1;33m(\u001b[0m\u001b[0mcleaned\u001b[0m\u001b[1;33m)\u001b[0m\u001b[1;33m\u001b[0m\u001b[1;33m\u001b[0m\u001b[0m\n\u001b[1;32m----> 3\u001b[1;33m \u001b[0mcleaneds\u001b[0m \u001b[1;33m=\u001b[0m \u001b[0mpd\u001b[0m\u001b[1;33m.\u001b[0m\u001b[0mDataFrame\u001b[0m\u001b[1;33m(\u001b[0m\u001b[0mcleaned\u001b[0m\u001b[1;33m,\u001b[0m \u001b[0mcolumns\u001b[0m\u001b[1;33m=\u001b[0m\u001b[0mcleaned\u001b[0m\u001b[1;33m.\u001b[0m\u001b[0mcolumns\u001b[0m\u001b[1;33m)\u001b[0m\u001b[1;33m\u001b[0m\u001b[1;33m\u001b[0m\u001b[0m\n\u001b[0m",
      "\u001b[1;31mAttributeError\u001b[0m: 'numpy.ndarray' object has no attribute 'columns'"
     ]
    }
   ],
   "source": [
    "scaler = StandardScaler()\n",
    "cleaneds = scaler.fit_transform(cleaned)\n",
    "cleaneds = pd.DataFrame(cleaned, columns=cleaned.columns)"
   ]
  },
  {
   "cell_type": "code",
   "execution_count": 12,
   "id": "75429b89-c2f5-4103-a3d4-9cdf45742319",
   "metadata": {},
   "outputs": [
    {
     "data": {
      "text/plain": [
       "LinearRegression()"
      ]
     },
     "execution_count": 12,
     "metadata": {},
     "output_type": "execute_result"
    }
   ],
   "source": [
    "# Split the data into input and target variables\n",
    "X = cleaned.drop(\"price\", axis=1)\n",
    "y = cleaned[\"price\"]\n",
    "\n",
    "# Fit a linear regression model to the data\n",
    "model = LinearRegression()\n",
    "model.fit(X, y)"
   ]
  },
  {
   "cell_type": "code",
   "execution_count": 13,
   "id": "1a8adc41-8ee9-45de-82c6-0ba0153afea3",
   "metadata": {},
   "outputs": [],
   "source": [
    "# Split data into training and testing sets\n",
    "X_train, X_test, y_train, y_test = train_test_split(X, y, test_size=0.3, random_state=42) "
   ]
  },
  {
   "cell_type": "code",
   "execution_count": 14,
   "id": "94cb073b-efef-4dbd-a079-44989b8c9624",
   "metadata": {},
   "outputs": [
    {
     "name": "stdout",
     "output_type": "stream",
     "text": [
      "Mean Absolute Error: 151363.15827407766\n",
      "Mean Squared Error: 54265282815.99167\n",
      "R^2 Score: 0.5907548217979304\n"
     ]
    }
   ],
   "source": [
    "# make predictions using your model\n",
    "y_pred = model.predict(X_test)\n",
    "\n",
    "# calculate mean absolute error\n",
    "mae = mean_absolute_error(y_test, y_pred)\n",
    "print(\"Mean Absolute Error:\", mae)\n",
    "\n",
    "# calculate mean squared error\n",
    "mse = mean_squared_error(y_test, y_pred)\n",
    "print(\"Mean Squared Error:\", mse)\n",
    "\n",
    "# calculate R^2 score\n",
    "r2 = r2_score(y_test, y_pred)\n",
    "print(\"R^2 Score:\", r2)"
   ]
  },
  {
   "cell_type": "code",
   "execution_count": null,
   "id": "ac7a62d6-f97f-4d69-8b50-e82f66530fa2",
   "metadata": {},
   "outputs": [],
   "source": []
  },
  {
   "cell_type": "code",
   "execution_count": null,
   "id": "f737f033-fed0-410d-bd5a-265252e45448",
   "metadata": {},
   "outputs": [],
   "source": []
  }
 ],
 "metadata": {
  "kernelspec": {
   "display_name": "Python 3 (ipykernel)",
   "language": "python",
   "name": "python3"
  },
  "language_info": {
   "codemirror_mode": {
    "name": "ipython",
    "version": 3
   },
   "file_extension": ".py",
   "mimetype": "text/x-python",
   "name": "python",
   "nbconvert_exporter": "python",
   "pygments_lexer": "ipython3",
   "version": "3.9.13"
  }
 },
 "nbformat": 4,
 "nbformat_minor": 5
}
