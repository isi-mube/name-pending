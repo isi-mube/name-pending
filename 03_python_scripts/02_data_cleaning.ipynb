{
 "cells": [
  {
   "cell_type": "markdown",
   "id": "8051df1d-f03e-4eca-8433-4d994dcf7d77",
   "metadata": {},
   "source": [
    "<h1 style=\"color: #00BFFF;\">00 |</h1>"
   ]
  },
  {
   "cell_type": "code",
   "execution_count": 1,
   "id": "cdbd3024-83c1-49af-8ea6-c06dc0870e6b",
   "metadata": {},
   "outputs": [],
   "source": [
    "# 📚 Basic libraries\n",
    "import pandas as pd # data manipulation\n",
    "import numpy as np # numerical operations\n",
    "import os # file managment\n",
    "import warnings # warning messages management\n",
    "import datetime # to play with dates"
   ]
  },
  {
   "cell_type": "code",
   "execution_count": 2,
   "id": "c8c7b8db-8df8-4b36-8e23-ebaf16f1fb02",
   "metadata": {},
   "outputs": [],
   "source": [
    "# ⚙️ Settings\n",
    "pd.set_option('display.max_columns', None) # display all columns\n",
    "warnings.filterwarnings('ignore') # ignore warnings"
   ]
  },
  {
   "cell_type": "code",
   "execution_count": 3,
   "id": "f3c5ffe5-1403-4d11-aa93-691d4d9568f8",
   "metadata": {},
   "outputs": [],
   "source": [
    "# 🎯 Specific functions\n",
    "def explore_data(data): # sum & returns duplicates, NaN & empty spaces\n",
    "    duplicate_rows = data.duplicated().sum()\n",
    "    nan_values = data.isna().sum()\n",
    "    empty_spaces = data.eq(' ').sum()\n",
    "    import pandas as pd\n",
    "    exploration = pd.DataFrame({\"NaN\": nan_values, \"EmptySpaces\": empty_spaces}) # New dataframe with the results\n",
    "    print(f\"There are {data.duplicated().sum()} duplicate rows. Also;\")\n",
    "    return exploration\n",
    "\n",
    "def get_house_lifetime(row): # returns house lifetime, based on current year - (year renovated) or (year build)\n",
    "    today = datetime.datetime.today().year\n",
    "    if row['yr_renovated'] != 0:\n",
    "        return today - row['yr_renovated']\n",
    "    else:\n",
    "        return today - row['yr_built']"
   ]
  },
  {
   "cell_type": "markdown",
   "id": "88b76db2-ee88-4672-b964-fd36b838c777",
   "metadata": {},
   "source": [
    "<h2 style=\"color: #008080;\">Data Extraction</h2>"
   ]
  },
  {
   "cell_type": "code",
   "execution_count": 4,
   "id": "97283c74-a3a8-46ee-8f05-3afbb4a9c1f3",
   "metadata": {},
   "outputs": [],
   "source": [
    "file_path = os.path.join(\"C:/Users/apisi/01. IronData/01. GitHub/03. Projects/05_patern_pending/00_data\", \"datac.csv\")\n",
    "datac = pd.read_csv(file_path, index_col=0) # to deal with an error `Unnamed: 0` column\n",
    "datac = datac.reset_index()"
   ]
  },
  {
   "cell_type": "markdown",
   "id": "8f4d31a5-cd72-4748-bb4b-f4ffcbd9f73f",
   "metadata": {
    "tags": []
   },
   "source": [
    "<h1 style=\"color: #00BFFF;\">02 | Data cleaning</h1>"
   ]
  },
  {
   "cell_type": "markdown",
   "id": "8213c3c2-2624-4c59-a950-98751e632c58",
   "metadata": {
    "tags": []
   },
   "source": [
    "<h2 style=\"color: #008080;\">Dealing with Duplicates</h2>"
   ]
  },
  {
   "cell_type": "code",
   "execution_count": 5,
   "id": "1fe0bcf7-c0d2-4b2e-bf0f-78b5837cb994",
   "metadata": {},
   "outputs": [
    {
     "name": "stdout",
     "output_type": "stream",
     "text": [
      "There are 0 duplicate rows. Also;\n"
     ]
    },
    {
     "data": {
      "text/html": [
       "<div>\n",
       "<style scoped>\n",
       "    .dataframe tbody tr th:only-of-type {\n",
       "        vertical-align: middle;\n",
       "    }\n",
       "\n",
       "    .dataframe tbody tr th {\n",
       "        vertical-align: top;\n",
       "    }\n",
       "\n",
       "    .dataframe thead th {\n",
       "        text-align: right;\n",
       "    }\n",
       "</style>\n",
       "<table border=\"1\" class=\"dataframe\">\n",
       "  <thead>\n",
       "    <tr style=\"text-align: right;\">\n",
       "      <th></th>\n",
       "      <th>NaN</th>\n",
       "      <th>EmptySpaces</th>\n",
       "    </tr>\n",
       "  </thead>\n",
       "  <tbody>\n",
       "    <tr>\n",
       "      <th>id</th>\n",
       "      <td>0</td>\n",
       "      <td>0</td>\n",
       "    </tr>\n",
       "    <tr>\n",
       "      <th>date</th>\n",
       "      <td>0</td>\n",
       "      <td>0</td>\n",
       "    </tr>\n",
       "    <tr>\n",
       "      <th>bedrooms</th>\n",
       "      <td>0</td>\n",
       "      <td>0</td>\n",
       "    </tr>\n",
       "    <tr>\n",
       "      <th>bathrooms</th>\n",
       "      <td>0</td>\n",
       "      <td>0</td>\n",
       "    </tr>\n",
       "    <tr>\n",
       "      <th>sqft_living</th>\n",
       "      <td>0</td>\n",
       "      <td>0</td>\n",
       "    </tr>\n",
       "    <tr>\n",
       "      <th>sqft_lot</th>\n",
       "      <td>0</td>\n",
       "      <td>0</td>\n",
       "    </tr>\n",
       "    <tr>\n",
       "      <th>floors</th>\n",
       "      <td>0</td>\n",
       "      <td>0</td>\n",
       "    </tr>\n",
       "    <tr>\n",
       "      <th>waterfront</th>\n",
       "      <td>0</td>\n",
       "      <td>0</td>\n",
       "    </tr>\n",
       "    <tr>\n",
       "      <th>view</th>\n",
       "      <td>0</td>\n",
       "      <td>0</td>\n",
       "    </tr>\n",
       "    <tr>\n",
       "      <th>condition</th>\n",
       "      <td>0</td>\n",
       "      <td>0</td>\n",
       "    </tr>\n",
       "    <tr>\n",
       "      <th>grade</th>\n",
       "      <td>0</td>\n",
       "      <td>0</td>\n",
       "    </tr>\n",
       "    <tr>\n",
       "      <th>sqft_above</th>\n",
       "      <td>0</td>\n",
       "      <td>0</td>\n",
       "    </tr>\n",
       "    <tr>\n",
       "      <th>sqft_basement</th>\n",
       "      <td>0</td>\n",
       "      <td>0</td>\n",
       "    </tr>\n",
       "    <tr>\n",
       "      <th>yr_built</th>\n",
       "      <td>0</td>\n",
       "      <td>0</td>\n",
       "    </tr>\n",
       "    <tr>\n",
       "      <th>yr_renovated</th>\n",
       "      <td>0</td>\n",
       "      <td>0</td>\n",
       "    </tr>\n",
       "    <tr>\n",
       "      <th>zipcode</th>\n",
       "      <td>0</td>\n",
       "      <td>0</td>\n",
       "    </tr>\n",
       "    <tr>\n",
       "      <th>lat</th>\n",
       "      <td>0</td>\n",
       "      <td>0</td>\n",
       "    </tr>\n",
       "    <tr>\n",
       "      <th>long</th>\n",
       "      <td>0</td>\n",
       "      <td>0</td>\n",
       "    </tr>\n",
       "    <tr>\n",
       "      <th>sqft_living15</th>\n",
       "      <td>0</td>\n",
       "      <td>0</td>\n",
       "    </tr>\n",
       "    <tr>\n",
       "      <th>sqft_lot15</th>\n",
       "      <td>0</td>\n",
       "      <td>0</td>\n",
       "    </tr>\n",
       "    <tr>\n",
       "      <th>price</th>\n",
       "      <td>0</td>\n",
       "      <td>0</td>\n",
       "    </tr>\n",
       "  </tbody>\n",
       "</table>\n",
       "</div>"
      ],
      "text/plain": [
       "               NaN  EmptySpaces\n",
       "id               0            0\n",
       "date             0            0\n",
       "bedrooms         0            0\n",
       "bathrooms        0            0\n",
       "sqft_living      0            0\n",
       "sqft_lot         0            0\n",
       "floors           0            0\n",
       "waterfront       0            0\n",
       "view             0            0\n",
       "condition        0            0\n",
       "grade            0            0\n",
       "sqft_above       0            0\n",
       "sqft_basement    0            0\n",
       "yr_built         0            0\n",
       "yr_renovated     0            0\n",
       "zipcode          0            0\n",
       "lat              0            0\n",
       "long             0            0\n",
       "sqft_living15    0            0\n",
       "sqft_lot15       0            0\n",
       "price            0            0"
      ]
     },
     "execution_count": 5,
     "metadata": {},
     "output_type": "execute_result"
    }
   ],
   "source": [
    "explore_data(datac) # sum & returns duplicates, NaN & empty spaces"
   ]
  },
  {
   "cell_type": "code",
   "execution_count": 6,
   "id": "f088ef28-aae8-45c9-9156-a779e967c9f2",
   "metadata": {},
   "outputs": [],
   "source": [
    "# Nothing to do here... moving on!"
   ]
  },
  {
   "cell_type": "markdown",
   "id": "bf7b3749-65fa-43e2-a08d-64f326beee1e",
   "metadata": {
    "tags": []
   },
   "source": [
    "<h2 style=\"color: #008080;\">Dealing with datetime formats</h2>"
   ]
  },
  {
   "cell_type": "code",
   "execution_count": 7,
   "id": "91d57a55-03c0-4189-b9f5-f61c923fa57c",
   "metadata": {},
   "outputs": [],
   "source": [
    "# Convert 'date' column to datetime format (it's an object after creating a new dataset)\n",
    "datac['date'] = pd.to_datetime(datac['date'])\n",
    "\n",
    "# Dates are complex. We will create 3 new columns for year, month and day.\n",
    "datac['year'] = datac['date'].dt.year\n",
    "datac['month'] = datac['date'].dt.month_name().str.slice(stop=3) # instead of giving them a number, we make them categoricals, and then we will encode them"
   ]
  },
  {
   "cell_type": "markdown",
   "id": "84a1b04d-9705-4bd8-ac8f-82e14fd7d56a",
   "metadata": {
    "tags": []
   },
   "source": [
    "<h2 style=\"color: #008080;\">Encoding Categoricals</h2>"
   ]
  },
  {
   "cell_type": "code",
   "execution_count": 8,
   "id": "07f5788e-2d25-436e-beba-cc3dab594a76",
   "metadata": {},
   "outputs": [],
   "source": [
    "dummies = pd.get_dummies(datac['month'], prefix='month')\n",
    "datac = pd.concat([datac, dummies], axis=1)"
   ]
  },
  {
   "cell_type": "markdown",
   "id": "d93f81b9-352c-4c6a-aa5b-cbd23889b6a6",
   "metadata": {
    "tags": []
   },
   "source": [
    "<h2 style=\"color: #008080;\">Saving information about Seattle houses</h2>"
   ]
  },
  {
   "cell_type": "code",
   "execution_count": 10,
   "id": "f60db2b1-1991-461b-ad69-0fe79013b95d",
   "metadata": {
    "tags": []
   },
   "outputs": [],
   "source": [
    "# It'll have some sense later for the conclusions :)\n",
    "seattle = datac[[\"lat\",\"long\", \"zipcode\"]]\n",
    "seattle.to_csv(\"C:/Users/apisi/01. IronData/01. GitHub/03. Projects/05_patern_pending/00_data/seattle.csv\")"
   ]
  },
  {
   "cell_type": "markdown",
   "id": "4599456e-8d70-45a9-8b72-7f03679f732d",
   "metadata": {
    "tags": []
   },
   "source": [
    "<h2 style=\"color: #008080;\">Dropping unnecessary features</h2>"
   ]
  },
  {
   "cell_type": "code",
   "execution_count": 12,
   "id": "d4f45688-fcff-4ebb-8a1f-33698583b9e2",
   "metadata": {},
   "outputs": [],
   "source": [
    "datac = datac.drop('id', axis=1) # Well, obvious or NaN? I mean, it's NaN or never.\n",
    "datac = datac.drop(['lat', 'long', 'zipcode', 'date', 'month'], axis=1)\n",
    "# lat, long and zipcode we have them storage in seattle dataset.\n",
    "# date has fulfilled it's purpose"
   ]
  },
  {
   "cell_type": "markdown",
   "id": "05033fc8-6c0d-40f0-85dc-3bb069b07c23",
   "metadata": {
    "tags": []
   },
   "source": [
    "<h2 style=\"color: #008080;\">Life happens</h2>"
   ]
  },
  {
   "cell_type": "code",
   "execution_count": 13,
   "id": "51dcca1e-1ed6-418e-80ab-b0c11ff8c238",
   "metadata": {},
   "outputs": [
    {
     "name": "stdout",
     "output_type": "stream",
     "text": [
      "Number of duplicated rows: 2\n"
     ]
    }
   ],
   "source": [
    "duplicates = datac.duplicated()\n",
    "print(\"Number of duplicated rows:\", duplicates.sum())"
   ]
  },
  {
   "cell_type": "code",
   "execution_count": 16,
   "id": "0ad25c1a-f95a-4a17-a07a-3180125dfd19",
   "metadata": {},
   "outputs": [
    {
     "name": "stdout",
     "output_type": "stream",
     "text": [
      "Number of duplicated rows: 0\n"
     ]
    }
   ],
   "source": [
    "# For some reason (we tested for duplicates at the start, and repeat duplicates = datac.duplicated() in different steps), we got 2 duplicated rows after dropping some features.\n",
    "# For now, we will just drop them\n",
    "datac = datac.drop_duplicates()\n",
    "duplicates = datac.duplicated()\n",
    "print(\"Number of duplicated rows:\", duplicates.sum())"
   ]
  },
  {
   "cell_type": "markdown",
   "id": "f825bf7e-ae1f-4b22-a138-4d094ccc06c9",
   "metadata": {
    "tags": []
   },
   "source": [
    "<h2 style=\"color: #008080;\">Feature Engineering</h2>"
   ]
  },
  {
   "cell_type": "code",
   "execution_count": 17,
   "id": "04ece5e3-a233-48b2-86ed-7247dd3315e3",
   "metadata": {},
   "outputs": [],
   "source": [
    "# Apply the function to create a new column 'house_lifetime'\n",
    "datac['house_lifetime'] = datac.apply(get_house_lifetime, axis=1) # returns house lifetime, based on current year S- (year renovated) or (year build)\n",
    "datac = datac.drop(['yr_built', 'yr_renovated'], axis=1) # already in house lifetime"
   ]
  },
  {
   "cell_type": "markdown",
   "id": "6f0fe4cb-814d-4986-b430-d55714a8c748",
   "metadata": {
    "tags": []
   },
   "source": [
    "<h2 style=\"color: #008080;\">Target coordinates</h2>"
   ]
  },
  {
   "cell_type": "markdown",
   "id": "c55a3baf-6914-460a-94ad-b066b854c235",
   "metadata": {},
   "source": [
    "We will just kindly move our target to the right."
   ]
  },
  {
   "cell_type": "code",
   "execution_count": 19,
   "id": "a8efcfad-8022-44c6-8d70-d8b65aa81000",
   "metadata": {},
   "outputs": [
    {
     "data": {
      "text/plain": [
       "Index(['bedrooms', 'bathrooms', 'sqft_living', 'sqft_lot', 'floors',\n",
       "       'waterfront', 'view', 'condition', 'grade', 'sqft_above',\n",
       "       'sqft_basement', 'sqft_living15', 'sqft_lot15', 'price', 'year',\n",
       "       'month_Apr', 'month_Aug', 'month_Dec', 'month_Feb', 'month_Jan',\n",
       "       'month_Jul', 'month_Jun', 'month_Mar', 'month_May', 'month_Nov',\n",
       "       'month_Oct', 'month_Sep', 'house_lifetime'],\n",
       "      dtype='object')"
      ]
     },
     "execution_count": 19,
     "metadata": {},
     "output_type": "execute_result"
    }
   ],
   "source": [
    "datac.columns"
   ]
  },
  {
   "cell_type": "code",
   "execution_count": 24,
   "id": "b2f4a8ec-f834-4ce5-9855-76c7c9e7be96",
   "metadata": {},
   "outputs": [],
   "source": [
    "# Kindly moving our target to the right, as best practices\n",
    "datac = datac[['bedrooms', 'bathrooms', 'sqft_living', 'sqft_lot', 'floors',\n",
    "       'waterfront', 'view', 'condition', 'grade', 'sqft_above',\n",
    "       'sqft_basement', 'sqft_living15', 'sqft_lot15', 'year',\n",
    "       'month_Apr', 'month_Aug', 'month_Dec', 'month_Feb', 'month_Jan',\n",
    "       'month_Jul', 'month_Jun', 'month_Mar', 'month_May', 'month_Nov',\n",
    "       'month_Oct', 'month_Sep', 'house_lifetime', 'price']]"
   ]
  },
  {
   "cell_type": "code",
   "execution_count": 25,
   "id": "b47d1e8e-20f4-4e12-bf0c-6b1936725555",
   "metadata": {},
   "outputs": [
    {
     "data": {
      "text/html": [
       "<div>\n",
       "<style scoped>\n",
       "    .dataframe tbody tr th:only-of-type {\n",
       "        vertical-align: middle;\n",
       "    }\n",
       "\n",
       "    .dataframe tbody tr th {\n",
       "        vertical-align: top;\n",
       "    }\n",
       "\n",
       "    .dataframe thead th {\n",
       "        text-align: right;\n",
       "    }\n",
       "</style>\n",
       "<table border=\"1\" class=\"dataframe\">\n",
       "  <thead>\n",
       "    <tr style=\"text-align: right;\">\n",
       "      <th></th>\n",
       "      <th>bedrooms</th>\n",
       "      <th>bathrooms</th>\n",
       "      <th>sqft_living</th>\n",
       "      <th>sqft_lot</th>\n",
       "      <th>floors</th>\n",
       "      <th>waterfront</th>\n",
       "      <th>view</th>\n",
       "      <th>condition</th>\n",
       "      <th>grade</th>\n",
       "      <th>sqft_above</th>\n",
       "      <th>sqft_basement</th>\n",
       "      <th>sqft_living15</th>\n",
       "      <th>sqft_lot15</th>\n",
       "      <th>year</th>\n",
       "      <th>month_Apr</th>\n",
       "      <th>month_Aug</th>\n",
       "      <th>month_Dec</th>\n",
       "      <th>month_Feb</th>\n",
       "      <th>month_Jan</th>\n",
       "      <th>month_Jul</th>\n",
       "      <th>month_Jun</th>\n",
       "      <th>month_Mar</th>\n",
       "      <th>month_May</th>\n",
       "      <th>month_Nov</th>\n",
       "      <th>month_Oct</th>\n",
       "      <th>month_Sep</th>\n",
       "      <th>house_lifetime</th>\n",
       "      <th>price</th>\n",
       "    </tr>\n",
       "  </thead>\n",
       "  <tbody>\n",
       "    <tr>\n",
       "      <th>15910</th>\n",
       "      <td>3</td>\n",
       "      <td>2.50</td>\n",
       "      <td>3110</td>\n",
       "      <td>6765</td>\n",
       "      <td>2.0</td>\n",
       "      <td>0</td>\n",
       "      <td>1</td>\n",
       "      <td>4</td>\n",
       "      <td>9</td>\n",
       "      <td>2550</td>\n",
       "      <td>560</td>\n",
       "      <td>2630</td>\n",
       "      <td>7626</td>\n",
       "      <td>2014</td>\n",
       "      <td>0</td>\n",
       "      <td>0</td>\n",
       "      <td>0</td>\n",
       "      <td>0</td>\n",
       "      <td>0</td>\n",
       "      <td>1</td>\n",
       "      <td>0</td>\n",
       "      <td>0</td>\n",
       "      <td>0</td>\n",
       "      <td>0</td>\n",
       "      <td>0</td>\n",
       "      <td>0</td>\n",
       "      <td>77.0</td>\n",
       "      <td>1640000</td>\n",
       "    </tr>\n",
       "    <tr>\n",
       "      <th>4270</th>\n",
       "      <td>5</td>\n",
       "      <td>3.00</td>\n",
       "      <td>3620</td>\n",
       "      <td>12778</td>\n",
       "      <td>1.0</td>\n",
       "      <td>0</td>\n",
       "      <td>2</td>\n",
       "      <td>5</td>\n",
       "      <td>8</td>\n",
       "      <td>1900</td>\n",
       "      <td>1720</td>\n",
       "      <td>2930</td>\n",
       "      <td>10669</td>\n",
       "      <td>2015</td>\n",
       "      <td>0</td>\n",
       "      <td>0</td>\n",
       "      <td>0</td>\n",
       "      <td>1</td>\n",
       "      <td>0</td>\n",
       "      <td>0</td>\n",
       "      <td>0</td>\n",
       "      <td>0</td>\n",
       "      <td>0</td>\n",
       "      <td>0</td>\n",
       "      <td>0</td>\n",
       "      <td>0</td>\n",
       "      <td>59.0</td>\n",
       "      <td>858000</td>\n",
       "    </tr>\n",
       "    <tr>\n",
       "      <th>15754</th>\n",
       "      <td>4</td>\n",
       "      <td>2.50</td>\n",
       "      <td>3150</td>\n",
       "      <td>13700</td>\n",
       "      <td>2.0</td>\n",
       "      <td>0</td>\n",
       "      <td>0</td>\n",
       "      <td>4</td>\n",
       "      <td>9</td>\n",
       "      <td>3150</td>\n",
       "      <td>0</td>\n",
       "      <td>3200</td>\n",
       "      <td>11900</td>\n",
       "      <td>2014</td>\n",
       "      <td>0</td>\n",
       "      <td>0</td>\n",
       "      <td>0</td>\n",
       "      <td>0</td>\n",
       "      <td>0</td>\n",
       "      <td>0</td>\n",
       "      <td>0</td>\n",
       "      <td>0</td>\n",
       "      <td>1</td>\n",
       "      <td>0</td>\n",
       "      <td>0</td>\n",
       "      <td>0</td>\n",
       "      <td>57.0</td>\n",
       "      <td>1260000</td>\n",
       "    </tr>\n",
       "    <tr>\n",
       "      <th>4228</th>\n",
       "      <td>3</td>\n",
       "      <td>2.75</td>\n",
       "      <td>1880</td>\n",
       "      <td>1793</td>\n",
       "      <td>2.0</td>\n",
       "      <td>0</td>\n",
       "      <td>0</td>\n",
       "      <td>3</td>\n",
       "      <td>7</td>\n",
       "      <td>1810</td>\n",
       "      <td>70</td>\n",
       "      <td>1800</td>\n",
       "      <td>2537</td>\n",
       "      <td>2014</td>\n",
       "      <td>0</td>\n",
       "      <td>1</td>\n",
       "      <td>0</td>\n",
       "      <td>0</td>\n",
       "      <td>0</td>\n",
       "      <td>0</td>\n",
       "      <td>0</td>\n",
       "      <td>0</td>\n",
       "      <td>0</td>\n",
       "      <td>0</td>\n",
       "      <td>0</td>\n",
       "      <td>0</td>\n",
       "      <td>22.0</td>\n",
       "      <td>268000</td>\n",
       "    </tr>\n",
       "    <tr>\n",
       "      <th>15413</th>\n",
       "      <td>3</td>\n",
       "      <td>1.75</td>\n",
       "      <td>1720</td>\n",
       "      <td>7202</td>\n",
       "      <td>1.0</td>\n",
       "      <td>0</td>\n",
       "      <td>0</td>\n",
       "      <td>3</td>\n",
       "      <td>7</td>\n",
       "      <td>1720</td>\n",
       "      <td>0</td>\n",
       "      <td>1720</td>\n",
       "      <td>7625</td>\n",
       "      <td>2014</td>\n",
       "      <td>0</td>\n",
       "      <td>0</td>\n",
       "      <td>1</td>\n",
       "      <td>0</td>\n",
       "      <td>0</td>\n",
       "      <td>0</td>\n",
       "      <td>0</td>\n",
       "      <td>0</td>\n",
       "      <td>0</td>\n",
       "      <td>0</td>\n",
       "      <td>0</td>\n",
       "      <td>0</td>\n",
       "      <td>28.0</td>\n",
       "      <td>404000</td>\n",
       "    </tr>\n",
       "  </tbody>\n",
       "</table>\n",
       "</div>"
      ],
      "text/plain": [
       "       bedrooms  bathrooms  sqft_living  sqft_lot  floors  waterfront  view  \\\n",
       "15910         3       2.50         3110      6765     2.0           0     1   \n",
       "4270          5       3.00         3620     12778     1.0           0     2   \n",
       "15754         4       2.50         3150     13700     2.0           0     0   \n",
       "4228          3       2.75         1880      1793     2.0           0     0   \n",
       "15413         3       1.75         1720      7202     1.0           0     0   \n",
       "\n",
       "       condition  grade  sqft_above  sqft_basement  sqft_living15  sqft_lot15  \\\n",
       "15910          4      9        2550            560           2630        7626   \n",
       "4270           5      8        1900           1720           2930       10669   \n",
       "15754          4      9        3150              0           3200       11900   \n",
       "4228           3      7        1810             70           1800        2537   \n",
       "15413          3      7        1720              0           1720        7625   \n",
       "\n",
       "       year  month_Apr  month_Aug  month_Dec  month_Feb  month_Jan  month_Jul  \\\n",
       "15910  2014          0          0          0          0          0          1   \n",
       "4270   2015          0          0          0          1          0          0   \n",
       "15754  2014          0          0          0          0          0          0   \n",
       "4228   2014          0          1          0          0          0          0   \n",
       "15413  2014          0          0          1          0          0          0   \n",
       "\n",
       "       month_Jun  month_Mar  month_May  month_Nov  month_Oct  month_Sep  \\\n",
       "15910          0          0          0          0          0          0   \n",
       "4270           0          0          0          0          0          0   \n",
       "15754          0          0          1          0          0          0   \n",
       "4228           0          0          0          0          0          0   \n",
       "15413          0          0          0          0          0          0   \n",
       "\n",
       "       house_lifetime    price  \n",
       "15910            77.0  1640000  \n",
       "4270             59.0   858000  \n",
       "15754            57.0  1260000  \n",
       "4228             22.0   268000  \n",
       "15413            28.0   404000  "
      ]
     },
     "execution_count": 25,
     "metadata": {},
     "output_type": "execute_result"
    }
   ],
   "source": [
    "# Let's see how it looks like !\n",
    "datac.sample(5)"
   ]
  },
  {
   "cell_type": "markdown",
   "id": "451ce1c0-e983-435b-9847-fa7c34ae7951",
   "metadata": {
    "tags": []
   },
   "source": [
    "<h2 style=\"color: #008080;\">Moving on to --> 03_eda</h2>"
   ]
  },
  {
   "cell_type": "code",
   "execution_count": 26,
   "id": "ceaf9d81-fdca-4884-8b7e-5ba418eb5927",
   "metadata": {},
   "outputs": [],
   "source": [
    "cleaned = datac.copy()\n",
    "cleaned.to_csv(\"C:/Users/apisi/01. IronData/01. GitHub/03. Projects/05_patern_pending/00_data/cleaned.csv\")"
   ]
  }
 ],
 "metadata": {
  "kernelspec": {
   "display_name": "Python 3 (ipykernel)",
   "language": "python",
   "name": "python3"
  },
  "language_info": {
   "codemirror_mode": {
    "name": "ipython",
    "version": 3
   },
   "file_extension": ".py",
   "mimetype": "text/x-python",
   "name": "python",
   "nbconvert_exporter": "python",
   "pygments_lexer": "ipython3",
   "version": "3.9.13"
  }
 },
 "nbformat": 4,
 "nbformat_minor": 5
}
