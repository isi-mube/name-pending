{
 "cells": [
  {
   "cell_type": "markdown",
   "id": "246620fb-7b19-42ff-8d66-a804d9a7f3fd",
   "metadata": {},
   "source": [
    "<h1 style=\"color: #00BFFF;\">00 |</h1>"
   ]
  },
  {
   "cell_type": "code",
   "execution_count": null,
   "id": "15f66a33-f47d-4cc5-8058-53df40226be1",
   "metadata": {},
   "outputs": [],
   "source": [
    "# 📚 Basic libraries\n",
    "import pandas as pd # data manipulation\n",
    "import numpy as np # numerical operations\n",
    "import os # file managment\n",
    "import matplotlib.pyplot as plt # 2D visualizations\n",
    "import seaborn as sns # high-resolution visualization\n",
    "import warnings # warning messages management\n",
    "import datetime # to play with dates\n",
    "\n",
    "# 🤖 Machine Learning\n",
    "from sklearn.linear_model import LinearRegression # linear regression model\n",
    "from scipy.stats import skew # data distribution assymmetry"
   ]
  },
  {
   "cell_type": "code",
   "execution_count": null,
   "id": "f8101c4e-700b-4f42-8385-44db6daa2823",
   "metadata": {},
   "outputs": [],
   "source": [
    "# ⚙️ Settings\n",
    "pd.set_option('display.max_columns', None) # display all columns\n",
    "warnings.filterwarnings('ignore') # ignore warnings"
   ]
  },
  {
   "cell_type": "code",
   "execution_count": null,
   "id": "4134bc31-cbef-4a61-b33e-df2178ea4707",
   "metadata": {},
   "outputs": [],
   "source": [
    "# 🔧 Basic functions\n",
    "def snake_columns(data): # snake_case columns\n",
    "    data.columns = [column.lower().replace(' ', '_') for column in data.columns]\n",
    "    \n",
    "def open_data(data): # returns shape, data types & shows a small sample\n",
    "    print(f\"Data shape is {data.shape}.\")\n",
    "    print()\n",
    "    print(data.dtypes)\n",
    "    print()\n",
    "    print(\"Data row sample and full columns:\")\n",
    "    return data.sample(5)\n",
    "\n",
    "# 🎯 Specific functions\n",
    "def explore_data(data): # sum & returns duplicates, NaN & empty spaces\n",
    "    duplicate_rows = data.duplicated().sum()\n",
    "    nan_values = data.isna().sum()\n",
    "    empty_spaces = data.eq(' ').sum()\n",
    "    import pandas as pd\n",
    "    exploration = pd.DataFrame({\"NaN\": nan_values, \"EmptySpaces\": empty_spaces}) # New dataframe with the results\n",
    "    print(f\"There are {data.duplicated().sum()} duplicate rows. Also;\")\n",
    "    return exploration\n",
    "\n",
    "def outlier_slayer(data): # automatically removes outliers based on Q1, Q3\n",
    "    for column in data.select_dtypes(include=[np.number]):\n",
    "        Q1 = data[column].quantile(0.25)\n",
    "        Q3 = data[column].quantile(0.75)\n",
    "        IQR = Q3 - Q1\n",
    "        lower_bound = Q1 - 1.5 * IQR\n",
    "        upper_bound = Q3 + 1.5 * IQR\n",
    "        data = data[(data[column] >= lower_bound) & (data[column] <= upper_bound)]\n",
    "    return data"
   ]
  },
  {
   "cell_type": "markdown",
   "id": "f7be6f2a-3489-4d5b-9556-c1dc345605db",
   "metadata": {
    "tags": []
   },
   "source": [
    "<h1 style=\"color: #00BFFF;\">01 | Data Extraction</h1>"
   ]
  },
  {
   "cell_type": "code",
   "execution_count": null,
   "id": "b925c402-d6b6-402d-aee0-e33c1041cdcd",
   "metadata": {},
   "outputs": [],
   "source": [
    "file_path = os.path.join(\"yourpath\", \"yourfile.xls\")\n",
    "data = pd.read_csv(file_path, index_col=0) # to deal with an error `Unnamed: 0` column"
   ]
  },
  {
   "cell_type": "markdown",
   "id": "d7b7a7eb-f20a-465b-a4ca-8cc8157cfce1",
   "metadata": {
    "tags": []
   },
   "source": [
    "<h2 style=\"color: #008080;\">Data Copy</h2>"
   ]
  },
  {
   "cell_type": "code",
   "execution_count": null,
   "id": "64488447-a68b-4405-bdff-46793c36b77f",
   "metadata": {},
   "outputs": [],
   "source": [
    "data_copy = data.copy() # copy before applying any change, as best practices"
   ]
  },
  {
   "cell_type": "code",
   "execution_count": null,
   "id": "56ecfcdd-94d3-4c77-b0fe-06789e759890",
   "metadata": {},
   "outputs": [],
   "source": [
    "snake_columns(data_copy) # snake_case columns\n",
    "open_data(data_copy) # returns shape, data types & shows a small sample"
   ]
  },
  {
   "cell_type": "markdown",
   "id": "1a2d9da5-8c1c-4734-89c4-7549592594ac",
   "metadata": {},
   "source": [
    "<blockquote style=\"background-color: #d4edda; color: #155724; border-color: #c3e6cb; padding: 10px; border-radius: 5px;\">\n",
    "    \n",
    "**First impression:**\n",
    "    \n",
    "_____________\n",
    "\n",
    "💻 The following is a collection of **X-year data** (from X to Y) of X, among X different columns:    \n",
    " \n",
    "    \n",
    "* --> **Target variable**:\n",
    "* --> **Features**:\n",
    "\n",
    "_____________\n",
    "</blockquote>"
   ]
  },
  {
   "cell_type": "markdown",
   "id": "1f136f5a-f267-48ad-8f5d-0cc7c58b6077",
   "metadata": {
    "tags": []
   },
   "source": [
    "<h1 style=\"color: #00BFFF;\">02 | Data cleaning</h1>"
   ]
  },
  {
   "cell_type": "markdown",
   "id": "309bb685-4136-43dc-866b-7565190031ab",
   "metadata": {
    "tags": []
   },
   "source": [
    "<h2 style=\"color: #008080;\">Dealing with Duplicates</h2>"
   ]
  },
  {
   "cell_type": "code",
   "execution_count": null,
   "id": "e4a2c47b-5d88-4d12-8222-d7bf9a001e2b",
   "metadata": {},
   "outputs": [],
   "source": [
    "explore_data(data_copy) # sum & returns duplicates, NaN & empty spaces"
   ]
  },
  {
   "cell_type": "markdown",
   "id": "b0a8c20b-a694-48f5-8d45-a32720280114",
   "metadata": {
    "tags": []
   },
   "source": [
    "<h2 style=\"color: #008080;\">Dealing with datetime formats</h2>"
   ]
  },
  {
   "cell_type": "code",
   "execution_count": null,
   "id": "18099261-a9ce-4908-9174-5eadb6c74331",
   "metadata": {},
   "outputs": [],
   "source": [
    "# Convert 'date' column to datetime format (it's an object after creating a new dataset)\n",
    "data_copy['date'] = pd.to_datetime(data_copy['date'])\n",
    "\n",
    "# Dates are complex. We will create 3 new columns for year, month and day.\n",
    "data_copy['year'] = data_copy['date'].dt.year\n",
    "data_copy['month'] = data_copy['date'].dt.month_name().str.slice(stop=3) # instead of giving them a number, we make them categoricals, and then we will encode them"
   ]
  },
  {
   "cell_type": "markdown",
   "id": "192ccc59-be29-42ad-9343-d1a0b26489d6",
   "metadata": {
    "tags": []
   },
   "source": [
    "<h2 style=\"color: #008080;\">Encoding Categoricals</h2>"
   ]
  },
  {
   "cell_type": "code",
   "execution_count": null,
   "id": "83c85a18-6650-4cbd-ad03-3da5ce6c1416",
   "metadata": {},
   "outputs": [],
   "source": [
    "dummies = pd.get_dummies(data_copy['month'], prefix='month')\n",
    "data_copy = pd.concat([data_copy, dummies], axis=1)"
   ]
  },
  {
   "cell_type": "markdown",
   "id": "be9cd4ba-b4ae-4510-8518-d0f75975fe45",
   "metadata": {
    "tags": []
   },
   "source": [
    "<h2 style=\"color: #008080;\">Dropping unnecessary features</h2>"
   ]
  },
  {
   "cell_type": "code",
   "execution_count": null,
   "id": "5ec52aa4-d3fd-46f2-99eb-db9d201a4287",
   "metadata": {},
   "outputs": [],
   "source": [
    "data_copy = data_copy.drop('id', axis=1) # Well, obvious or NaN? I mean, it's NaN or never.\n",
    "data_copy = data_copy.drop(['lat', 'long', 'zipcode', 'date', 'month'], axis=1)\n",
    "# lat, long and zipcode we have them storage in seattle dataset.\n",
    "# date has fulfilled it's purpose"
   ]
  },
  {
   "cell_type": "markdown",
   "id": "d014e828-38ca-4bad-8b04-ccf3f0ad6102",
   "metadata": {
    "tags": []
   },
   "source": [
    "<h2 style=\"color: #008080;\">Feature Engineering</h2>"
   ]
  },
  {
   "cell_type": "markdown",
   "id": "e8c0fd80-cf4a-46c1-9f01-b83552a96099",
   "metadata": {
    "tags": []
   },
   "source": [
    "<h2 style=\"color: #008080;\">Target coordinates</h2>"
   ]
  },
  {
   "cell_type": "markdown",
   "id": "7afdae61-58ff-48c2-ac12-e9531af06afb",
   "metadata": {},
   "source": [
    "We will just kindly move our target to the right."
   ]
  },
  {
   "cell_type": "code",
   "execution_count": null,
   "id": "165b5779-9015-4920-a988-f6252f269c1f",
   "metadata": {},
   "outputs": [],
   "source": [
    "data_copy.columns"
   ]
  },
  {
   "cell_type": "code",
   "execution_count": null,
   "id": "9bc1240a-afe5-4c75-b826-9be3e7e44c89",
   "metadata": {},
   "outputs": [],
   "source": [
    "# Kindly moving our target to the right, as best practices"
   ]
  },
  {
   "cell_type": "code",
   "execution_count": null,
   "id": "3e275340-1662-48dd-861f-b8978709947b",
   "metadata": {},
   "outputs": [],
   "source": [
    "# Let's see how it looks like !\n",
    "data_copy.sample(5)"
   ]
  },
  {
   "cell_type": "markdown",
   "id": "815ca90b-2a77-437e-917b-41de30158d0d",
   "metadata": {},
   "source": [
    "<h1 style=\"color: #00BFFF;\">03 | EDA</h1>"
   ]
  },
  {
   "cell_type": "markdown",
   "id": "35516658-8b78-4aea-85bd-e64cc04b0de7",
   "metadata": {
    "tags": []
   },
   "source": [
    "<h2 style=\"color: #008080;\">Checking Duplicates and entry errors</h2>"
   ]
  },
  {
   "cell_type": "code",
   "execution_count": null,
   "id": "ac923e5a-a5cc-4f8c-a2cc-4bffe4a64bf5",
   "metadata": {},
   "outputs": [],
   "source": [
    "explore_data(cleaned)"
   ]
  },
  {
   "cell_type": "markdown",
   "id": "b0f91f25-1ed1-4711-9572-0760b2a4ce8f",
   "metadata": {
    "tags": []
   },
   "source": [
    "<h2 style=\"color: #008080;\">Checking Data distributions</h2>"
   ]
  },
  {
   "cell_type": "code",
   "execution_count": null,
   "id": "0245fed6-a00e-46d3-b003-8f1cd8a0e964",
   "metadata": {},
   "outputs": [],
   "source": [
    "# Dark background\n",
    "sns.set(style=\"darkgrid\")\n",
    "\n",
    "# Number of rows and columns for the grid\n",
    "n_features = len(house_features.columns)\n",
    "n_cols = 3\n",
    "n_rows = (n_features + n_cols - 1) // n_cols\n",
    "\n",
    "# Grid of histograms\n",
    "fig, axes = plt.subplots(n_rows, n_cols, figsize=(15, 20))\n",
    "axes = axes.flatten()\n",
    "\n",
    "for i, column in enumerate(house_features.columns):\n",
    "    sns.histplot(data=house_features, x=column, kde=True, color=\"blue\", ax=axes[i])\n",
    "    axes[i].set_title(f\"Distribution of {column}\")\n",
    "\n",
    "# Removing empty subplots\n",
    "for i in range(len(house_features.columns), n_rows * n_cols):\n",
    "    fig.delaxes(axes[i])\n",
    "\n",
    "fig.suptitle(\"Distributions of House Features\", fontsize=16, y=1.02)\n",
    "plt.tight_layout()\n",
    "plt.show()"
   ]
  },
  {
   "cell_type": "markdown",
   "id": "379df859-c9d1-4d02-9158-717abd77636e",
   "metadata": {},
   "source": [
    "<blockquote style=\"background-color: #d4edda; color: #155724; border-color: #c3e6cb; padding: 10px; border-radius: 5px;\">\n",
    "</blockquote>"
   ]
  },
  {
   "cell_type": "markdown",
   "id": "db7cee51-7e67-4d63-b4cd-6a3847737051",
   "metadata": {
    "tags": []
   },
   "source": [
    "<h2 style=\"color: #008080;\">Dealing with Skewness</h2>"
   ]
  },
  {
   "cell_type": "code",
   "execution_count": null,
   "id": "0a730c2b-fd3d-4545-b0a1-ebd915fe8512",
   "metadata": {},
   "outputs": [],
   "source": [
    "# Calculate skewness only for numeric columns\n",
    "skew_values = house_features.apply(skew)\n",
    "print(skew_values)"
   ]
  },
  {
   "cell_type": "markdown",
   "id": "de880ac1-9f9d-4170-8420-51227fc15941",
   "metadata": {},
   "source": [
    "<blockquote style=\"background-color: #d4edda; color: #155724; border-color: #c3e6cb; padding: 10px; border-radius: 5px;\">\n",
    "</blockquote>"
   ]
  },
  {
   "cell_type": "markdown",
   "id": "646d2227-9217-4616-abc5-7c82fe8cab08",
   "metadata": {
    "tags": []
   },
   "source": [
    "<h2 style=\"color: #008080;\">Checking Outliers</h2>"
   ]
  },
  {
   "cell_type": "code",
   "execution_count": null,
   "id": "7ee8d438-8941-4794-ad31-0531e9b94b5e",
   "metadata": {},
   "outputs": [],
   "source": [
    "# For house_features variable used while checking Data distributions\n",
    "fig, ax = plt.subplots(figsize=(15, 20))\n",
    "sns.boxplot(data=house_features, orient=\"h\", ax=ax, showfliers=True, whis=1.5)\n",
    "ax.tick_params(axis='x', labelsize=15) # Adjust the font size of the x-axis ticks\n",
    "# Show the plot\n",
    "plt.show()"
   ]
  },
  {
   "cell_type": "code",
   "execution_count": null,
   "id": "e160041d-2e27-4258-a122-40a9b7045950",
   "metadata": {},
   "outputs": [],
   "source": [
    "# Visualizing the changes\n",
    "\n",
    "fig, ax = plt.subplots(figsize=(30, 12))\n",
    "sns.boxplot(data=X_N, orient=\"h\", ax=ax, showfliers=True, whis=1.5)\n",
    "\n",
    "# Set the x-axis label\n",
    "ax.set_ylabel(\"Features\")\n",
    "# Set the title of the plot\n",
    "ax.set_title(\"Features Outliers\")\n",
    "# Adjust the font size of the x-axis ticks\n",
    "ax.tick_params(axis='x', labelsize=14)\n",
    "# Show the plot\n",
    "plt.show()"
   ]
  },
  {
   "cell_type": "markdown",
   "id": "22e641e8-a8bf-4bbf-b047-c84b7e5c79e5",
   "metadata": {
    "tags": []
   },
   "source": [
    "<h2 style=\"color: #008080;\">Dealing with Data distributions</h2>"
   ]
  },
  {
   "cell_type": "code",
   "execution_count": null,
   "id": "66663c76-2319-493c-9185-ef6d2eb07778",
   "metadata": {},
   "outputs": [],
   "source": [
    "# set color palette\n",
    "colors = ['#0072B2'] # blue\n",
    "\n",
    "# plot normalized features in a grid\n",
    "fig, axes = plt.subplots(nrows=5, ncols=5, figsize=(20, 16)) # nrows to 5, ncols to 6 to plot our 26 features\n",
    "for i, ax in enumerate(axes.flat):\n",
    "    if i >= len(X_N.columns):\n",
    "        break\n",
    "    sns.histplot(X_N.iloc[:, i], ax=ax, color=colors[i % len(colors)], kde=True)\n",
    "    sns.kdeplot(X_N.iloc[:, i], ax=ax, color='#999999', linewidth=2)\n",
    "    ax.set_title(X_N.columns[i])\n",
    "plt.tight_layout()\n",
    "plt.show()"
   ]
  },
  {
   "cell_type": "markdown",
   "id": "76f28e8d-b648-47e6-b7f6-fe72720008a2",
   "metadata": {},
   "source": [
    "<h2 style=\"color: #008080;\">Dealing with Multicollinearity</h2>"
   ]
  },
  {
   "cell_type": "code",
   "execution_count": null,
   "id": "e65caf7e-cd57-43bb-b310-ae4c1ea49ca2",
   "metadata": {},
   "outputs": [],
   "source": [
    "# Creating the matrix\n",
    "X_corr = round(X_N.corr(), 4)"
   ]
  },
  {
   "cell_type": "code",
   "execution_count": null,
   "id": "cff7efae-bf76-4a39-9e33-642f3217ac56",
   "metadata": {},
   "outputs": [],
   "source": [
    "# Correlation Matrix-Heatmap Plot\n",
    "mask = np.zeros_like(X_corr)\n",
    "mask[np.triu_indices_from(mask)] = True # optional, to hide repeat half of the matrix\n",
    "f, ax = plt.subplots(figsize=(15, 20))\n",
    "sns.set(font_scale=1.5) # increase font size\n",
    "ax = sns.heatmap(X_corr, mask=mask, annot=True, annot_kws={\"size\": 12}, linewidths=.5, cmap=\"coolwarm\", fmt=\".2f\", ax=ax) # round to 2 decimal places\n",
    "ax.set_title(\"Dealing with Multicollinearity\", fontsize=20) # add title\n",
    "plt.show()"
   ]
  },
  {
   "cell_type": "markdown",
   "id": "29a8f878-1366-4a6e-ba9a-3d02767fbcc3",
   "metadata": {},
   "source": [
    "<h1 style=\"color: #00BFFF;\">04 | Data Processing</h1>"
   ]
  },
  {
   "cell_type": "markdown",
   "id": "aa46dfff-621d-4556-a85a-0b9fec469a99",
   "metadata": {},
   "source": [
    "<h2 style=\"color: #008080;\">Dealing with imbalanced data</h2>"
   ]
  },
  {
   "cell_type": "markdown",
   "id": "8e0e3233-1f59-47ed-aa26-e1a1ef4685d2",
   "metadata": {},
   "source": [
    "<h2 style=\"color: #008080;\">Normalizing the data</h2>"
   ]
  },
  {
   "cell_type": "code",
   "execution_count": null,
   "id": "aa8a33aa-65c8-4112-b484-7ab72f2980b5",
   "metadata": {},
   "outputs": [],
   "source": [
    "scaler = MinMaxScaler()\n",
    "X_minmax = scaler.fit_transform(X)\n",
    "\n",
    "# Making it a dataframe\n",
    "X_minmax = pd.DataFrame(X_minmax, columns=X.columns)"
   ]
  },
  {
   "cell_type": "markdown",
   "id": "a569793b-7396-4de0-8704-4d433703593a",
   "metadata": {},
   "source": [
    "<h2 style=\"color: #008080;\">Merging Categoricals and Numericals</h2>"
   ]
  },
  {
   "cell_type": "markdown",
   "id": "b835d265-7c6f-491d-8334-f8a0487e43a0",
   "metadata": {
    "tags": []
   },
   "source": [
    "<h1 style=\"color: #00BFFF;\">05 | Modeling</h1>"
   ]
  },
  {
   "cell_type": "markdown",
   "id": "d3d550f2-a43b-4dac-b13a-10571b82c9e3",
   "metadata": {},
   "source": [
    "<h2 style=\"color: #008080;\">X-Y Split</h2>"
   ]
  },
  {
   "cell_type": "code",
   "execution_count": null,
   "id": "d26038f8-cb02-4842-94fc-9f1792018436",
   "metadata": {},
   "outputs": [],
   "source": [
    "Y = X_N['ova']\n",
    "X = X_N.drop(['ova'], axis=1)"
   ]
  },
  {
   "cell_type": "markdown",
   "id": "fe90fe50-b284-4e66-9b2c-d7d5c2e32657",
   "metadata": {
    "jp-MarkdownHeadingCollapsed": true,
    "tags": []
   },
   "source": [
    "<h2 style=\"color: #008080;\">Train-Test Split</h2>"
   ]
  },
  {
   "cell_type": "code",
   "execution_count": null,
   "id": "054d01cc-49ed-453f-86d8-254d8cd7758b",
   "metadata": {},
   "outputs": [],
   "source": [
    "# We define train and test for X and Y\n",
    "X_train, X_test, y_train, y_test = train_test_split(X, Y, test_size=0.3, random_state=42) \n",
    "\n",
    "# test_size = We give 30% for testing and 70% for testing\n",
    "# random_state = it'll improve the model to divide always the model in the same way"
   ]
  },
  {
   "cell_type": "markdown",
   "id": "3d3f1781-eb11-431d-b9a0-c02d6bea5c7a",
   "metadata": {},
   "source": [
    "<h2 style=\"color: #008080;\">Your Model</h2>"
   ]
  },
  {
   "cell_type": "code",
   "execution_count": null,
   "id": "1c4780e5-9c92-4ef7-97e7-1ef9b8f52943",
   "metadata": {},
   "outputs": [],
   "source": [
    "# Settings\n",
    "alpha = 1.0\n",
    "l1_ratio = 0.5\n",
    "elasticnet = ElasticNet(alpha=alpha, l1_ratio=l1_ratio)\n",
    "\n",
    "# Train data for the model\n",
    "elasticnet.fit(X_train, y_train)\n",
    "\n",
    "# Predictions\n",
    "predictions = elasticnet.predict(X_test)\n",
    "\n",
    "r2_3 = r2_score(y_test, predictions)\n",
    "RMSE_3 = mean_squared_error(y_test, predictions, squared=False)\n",
    "MSE_3 = mean_squared_error(y_test, predictions)\n",
    "MAE_3 = mean_absolute_error(y_test, predictions)\n",
    "\n",
    "#Printing the results\n",
    "print(\"R2 = \", round(r2_3, 4))\n",
    "print(\"RMSE = \", round(RMSE_3, 4))\n",
    "print(\"The value of the metric MSE is \", round(MSE_3, 4))\n",
    "print(\"MAE = \", round(MAE_3, 4))"
   ]
  },
  {
   "cell_type": "markdown",
   "id": "8ecc4034-31d0-4a1e-aebf-35d3d8b48bc1",
   "metadata": {},
   "source": [
    "<h1 style=\"color: #00BFFF;\">06 | Reporting</h1>"
   ]
  },
  {
   "cell_type": "markdown",
   "id": "ccbff5c8-22d5-4b0c-9d1e-9ba83bd46642",
   "metadata": {},
   "source": [
    "<h2 style=\"color: #008080;\">Presenting the results</h2>"
   ]
  },
  {
   "cell_type": "code",
   "execution_count": null,
   "id": "87dd112d-153d-48c8-a1fc-546b696cc37a",
   "metadata": {},
   "outputs": [],
   "source": [
    "# Dataframe for true, predicted and absolute difference values\n",
    "results = pd.DataFrame()\n",
    "results['true'] = y_test\n",
    "results['pred'] = predictions\n",
    "results['diff'] = results.apply(lambda x: abs(x['true'] - x['pred']), axis=1)\n",
    "\n",
    "\n",
    "sns.set_style('whitegrid')\n",
    "sns.regplot(x='true_scaled', y='pred_scaled', data=results, color='black', scatter_kws={'s': 100, 'color': '#1f77b4', 'alpha': 0.5, 'edgecolor': 'w'})\n",
    "plt.xlabel('Actual Overall Ratings', fontsize=14, fontweight='bold', color='#34495e')\n",
    "plt.ylabel('Predicted Overall Rating', fontsize=14, fontweight='bold', color='#34495e')\n",
    "plt.title('True Values Vs Predicted Values', fontsize=16, fontweight='bold', color='#34495e')\n",
    "plt.xticks(fontsize=12, color='#34495e')\n",
    "plt.yticks(fontsize=12, color='#34495e')\n",
    "plt.tight_layout()\n",
    "plt.show()"
   ]
  },
  {
   "cell_type": "markdown",
   "id": "3e18d222-591e-47f3-8d3f-7ac7874b685c",
   "metadata": {},
   "source": [
    "<h2 style=\"color: #00BFFF;\">So... Will the movie be rented in the future?</h2>"
   ]
  },
  {
   "cell_type": "markdown",
   "id": "01238fa8-0778-4ccc-82c7-274ec2b2177b",
   "metadata": {},
   "source": [
    "<h1 style=\"color: #00BFFF;\">-1 | Bonus</h1>"
   ]
  },
  {
   "cell_type": "markdown",
   "id": "01977732-f1e0-4cc3-a829-eeaac301d888",
   "metadata": {},
   "source": [
    "<h3 style=\"color: #0099CC;\">Little title</h3>"
   ]
  },
  {
   "cell_type": "markdown",
   "id": "c2d58d64-23a7-44bb-9aca-b5f2f7a9843d",
   "metadata": {},
   "source": [
    "<blockquote style=\"background-color: #d4edda; color: #155724; border-color: #c3e6cb; padding: 10px; border-radius: 5px;\">\n",
    "\n",
    "</blockquote>"
   ]
  },
  {
   "cell_type": "markdown",
   "id": "56a14097-7e4e-4790-8aa3-660915c49b74",
   "metadata": {},
   "source": [
    "<blockquote style=\"background-color: #ffeeba; color: #856404; border-color: #ffeeba; padding: 10px; border-radius: 5px;\">\n",
    "\n",
    "</blockquote>"
   ]
  },
  {
   "cell_type": "markdown",
   "id": "14b0f12e-18e9-4456-b2fb-2c546a9e1f27",
   "metadata": {},
   "source": [
    "<div class=\"alert alert-block alert-info\">\n",
    "</div>"
   ]
  }
 ],
 "metadata": {
  "kernelspec": {
   "display_name": "Python 3 (ipykernel)",
   "language": "python",
   "name": "python3"
  },
  "language_info": {
   "codemirror_mode": {
    "name": "ipython",
    "version": 3
   },
   "file_extension": ".py",
   "mimetype": "text/x-python",
   "name": "python",
   "nbconvert_exporter": "python",
   "pygments_lexer": "ipython3",
   "version": "3.9.13"
  }
 },
 "nbformat": 4,
 "nbformat_minor": 5
}
